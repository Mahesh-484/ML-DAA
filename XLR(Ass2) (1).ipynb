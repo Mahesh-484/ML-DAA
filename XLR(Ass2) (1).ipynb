{
 "cells": [
  {
   "cell_type": "code",
   "execution_count": 1,
   "id": "e61e39d4-92cd-48cd-bfcb-ad767af718f4",
   "metadata": {},
   "outputs": [
    {
     "name": "stdout",
     "output_type": "stream",
     "text": [
      "Accessing List elements:\n",
      "First element of the list: 10\n",
      "Last element of the list: 50\n",
      "\n",
      "Accessing Tuple elements:\n",
      "Second element of the tuple: banana\n",
      "Fourth element of the tuple: date\n",
      "\n",
      "Accessing Dictionary values by key:\n",
      "Name: John\n",
      "Age: 25\n"
     ]
    }
   ],
   "source": [
    "my_list = [10, 20, 30, 40, 50]\n",
    "my_tuple = ('apple', 'banana', 'cherry', 'date', 'elderberry')\n",
    "my_dict = {\n",
    "    'name': 'John',\n",
    "    'age': 25,\n",
    "    'city': 'New York',\n",
    "    'job': 'Engineer',\n",
    "    'country': 'USA'\n",
    "}\n",
    "print(\"Accessing List elements:\")\n",
    "print(\"First element of the list:\", my_list[0])  \n",
    "print(\"Last element of the list:\", my_list[-1])\n",
    "print(\"\\nAccessing Tuple elements:\")\n",
    "print(\"Second element of the tuple:\", my_tuple[1])  \n",
    "print(\"Fourth element of the tuple:\", my_tuple[3]) \n",
    "print(\"\\nAccessing Dictionary values by key:\")\n",
    "print(\"Name:\", my_dict['name']) \n",
    "print(\"Age:\", my_dict['age'])  "
   ]
  },
  {
   "cell_type": "code",
   "execution_count": null,
   "id": "2c8f3873-5674-441f-a10f-8c74d0213c84",
   "metadata": {},
   "outputs": [],
   "source": []
  }
 ],
 "metadata": {
  "kernelspec": {
   "display_name": "Python 3 (ipykernel)",
   "language": "python",
   "name": "python3"
  },
  "language_info": {
   "codemirror_mode": {
    "name": "ipython",
    "version": 3
   },
   "file_extension": ".py",
   "mimetype": "text/x-python",
   "name": "python",
   "nbconvert_exporter": "python",
   "pygments_lexer": "ipython3",
   "version": "3.12.7"
  }
 },
 "nbformat": 4,
 "nbformat_minor": 5
}
