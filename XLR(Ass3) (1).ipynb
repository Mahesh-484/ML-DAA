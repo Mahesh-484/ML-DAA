{
 "cells": [
  {
   "cell_type": "code",
   "execution_count": 2,
   "id": "14ee1bb3-d2cf-428b-8526-2686b2f8759e",
   "metadata": {},
   "outputs": [
    {
     "name": "stdin",
     "output_type": "stream",
     "text": [
      "Please enter the marks for subject 1:  84\n",
      "Please enter the marks for subject 2:  94\n",
      "Please enter the marks for subject 3:  36\n"
     ]
    },
    {
     "name": "stdout",
     "output_type": "stream",
     "text": [
      "Your grade is: C\n"
     ]
    }
   ],
   "source": [
    "subject1 = float(input(\"Please enter the marks for subject 1: \"))\n",
    "subject2 = float(input(\"Please enter the marks for subject 2: \"))\n",
    "subject3 = float(input(\"Please enter the marks for subject 3: \"))\n",
    "\n",
    "average_marks = (subject1 + subject2 + subject3) / 3\n",
    "\n",
    "if average_marks >= 90:\n",
    "    print(\"Your grade is: A\")\n",
    "elif 80 <= average_marks < 90:\n",
    "    print(\"Your grade is: B\")\n",
    "elif 70 <= average_marks < 80:\n",
    "    print(\"Your grade is: C\")\n",
    "else:\n",
    "    print(\"Your grade is: Fail\")"
   ]
  },
  {
   "cell_type": "code",
   "execution_count": null,
   "id": "3f0c22b5-35df-4abc-a6bf-a41aceb52677",
   "metadata": {},
   "outputs": [],
   "source": []
  }
 ],
 "metadata": {
  "kernelspec": {
   "display_name": "Python 3 (ipykernel)",
   "language": "python",
   "name": "python3"
  },
  "language_info": {
   "codemirror_mode": {
    "name": "ipython",
    "version": 3
   },
   "file_extension": ".py",
   "mimetype": "text/x-python",
   "name": "python",
   "nbconvert_exporter": "python",
   "pygments_lexer": "ipython3",
   "version": "3.12.7"
  }
 },
 "nbformat": 4,
 "nbformat_minor": 5
}
